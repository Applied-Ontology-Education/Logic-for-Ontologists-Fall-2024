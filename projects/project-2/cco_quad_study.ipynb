{
 "cells": [
  {
   "cell_type": "code",
   "execution_count": 1,
   "id": "107ffcf0-e792-41d7-9ad2-0e472b71132a",
   "metadata": {},
   "outputs": [
    {
     "name": "stdout",
     "output_type": "stream",
     "text": [
      "http://www.w3.org/2004/02/skos/core#Collection\n",
      "http://www.w3.org/2004/02/skos/core#Concept\n",
      "http://www.w3.org/2004/02/skos/core#ConceptScheme\n",
      "http://www.w3.org/2004/02/skos/core#OrderedCollection\n",
      "http://www.w3.org/2004/02/skos/core#altLabel\n",
      "http://www.w3.org/2004/02/skos/core#broadMatch\n",
      "http://www.w3.org/2004/02/skos/core#broader\n",
      "http://www.w3.org/2004/02/skos/core#broaderTransitive\n",
      "http://www.w3.org/2004/02/skos/core#changeNote\n",
      "http://www.w3.org/2004/02/skos/core#closeMatch\n",
      "http://www.w3.org/2004/02/skos/core#definition\n",
      "http://www.w3.org/2004/02/skos/core#editorialNote\n",
      "http://www.w3.org/2004/02/skos/core#exactMatch\n",
      "http://www.w3.org/2004/02/skos/core#example\n",
      "http://www.w3.org/2004/02/skos/core#hasTopConcept\n",
      "http://www.w3.org/2004/02/skos/core#hiddenLabel\n",
      "http://www.w3.org/2004/02/skos/core#historyNote\n",
      "http://www.w3.org/2004/02/skos/core#inScheme\n",
      "http://www.w3.org/2004/02/skos/core#mappingRelation\n",
      "http://www.w3.org/2004/02/skos/core#member\n",
      "http://www.w3.org/2004/02/skos/core#memberList\n",
      "http://www.w3.org/2004/02/skos/core#narrowMatch\n",
      "http://www.w3.org/2004/02/skos/core#narrower\n",
      "http://www.w3.org/2004/02/skos/core#narrowerTransitive\n",
      "http://www.w3.org/2004/02/skos/core#notation\n",
      "http://www.w3.org/2004/02/skos/core#note\n",
      "http://www.w3.org/2004/02/skos/core#prefLabel\n",
      "http://www.w3.org/2004/02/skos/core#related\n",
      "http://www.w3.org/2004/02/skos/core#relatedMatch\n",
      "http://www.w3.org/2004/02/skos/core#scopeNote\n",
      "http://www.w3.org/2004/02/skos/core#semanticRelation\n",
      "http://www.w3.org/2004/02/skos/core#topConceptOf\n"
     ]
    }
   ],
   "source": [
    "from rdflib import * \n",
    "for r in dir(SKOS):\n",
    "    print(r) "
   ]
  },
  {
   "cell_type": "code",
   "execution_count": 2,
   "id": "3b95a61a-b8fd-4544-a495-d9e69730e9b3",
   "metadata": {},
   "outputs": [],
   "source": [
    "from io import StringIO\n",
    "trig = \"\"\"\n",
    "  :products {\n",
    "      :p1 a :Product ;\n",
    "          :part-of :o1 .\n",
    "      :o1 a :Order;\n",
    "          :customer :c1 .\n",
    "    }\n",
    "    \n",
    "    :customers {\n",
    "      :c1 :name \"Jim\" .\n",
    "    }\n",
    "\"\"\"\n",
    "trigdata = StringIO(trig)"
   ]
  },
  {
   "cell_type": "code",
   "execution_count": 26,
   "id": "96a9c790-7569-4852-8125-ffdf18c191b3",
   "metadata": {},
   "outputs": [
    {
     "name": "stdout",
     "output_type": "stream",
     "text": [
      "<class 'rdflib.graph.ConjunctiveGraph'>\n",
      "@prefix foaf: <http://xmlns.com/foaf/0.1/> .\n",
      "@prefix ns1: <http://example.org/> .\n",
      "@prefix prov: <http://www.w3.org/ns/prov#> .\n",
      "@prefix rdfs: <http://www.w3.org/2000/01/rdf-schema#> .\n",
      "\n",
      "ns1:graph2 {\n",
      "    <http://example.org/people/James> a foaf:Person ;\n",
      "        foaf:name \"James\" .\n",
      "}\n",
      "\n",
      "ns1:graph1 {\n",
      "    <http://example.org/people/Bob> a foaf:Person ;\n",
      "        foaf:name \"Bob\" .\n",
      "}\n",
      "\n",
      "ns1:topology {\n",
      "    foaf:Person rdfs:subClassOf prov:Agent .\n",
      "}\n",
      "\n",
      "\n",
      "{\n",
      "  \"pt\": \"http://www.w3.org/2000/01/rdf-schema#subClassOf\",\n",
      "  \"s1\": \"http://example.org/people/Bob\",\n",
      "  \"o\": \"James\",\n",
      "  \"ot\": \"http://www.w3.org/ns/prov#Agent\",\n",
      "  \"o1\": \"Bob\",\n",
      "  \"st\": \"http://xmlns.com/foaf/0.1/Person\",\n",
      "  \"p1\": \"http://xmlns.com/foaf/0.1/name\",\n",
      "  \"s\": \"http://example.org/people/James\",\n",
      "  \"p\": \"http://xmlns.com/foaf/0.1/name\"\n",
      "}\n",
      "{\n",
      "  \"pt\": \"http://www.w3.org/2000/01/rdf-schema#subClassOf\",\n",
      "  \"s1\": \"http://example.org/people/Bob\",\n",
      "  \"o\": \"http://xmlns.com/foaf/0.1/Person\",\n",
      "  \"ot\": \"http://www.w3.org/ns/prov#Agent\",\n",
      "  \"o1\": \"Bob\",\n",
      "  \"st\": \"http://xmlns.com/foaf/0.1/Person\",\n",
      "  \"p1\": \"http://xmlns.com/foaf/0.1/name\",\n",
      "  \"s\": \"http://example.org/people/James\",\n",
      "  \"p\": \"http://www.w3.org/1999/02/22-rdf-syntax-ns#type\"\n",
      "}\n",
      "{\n",
      "  \"pt\": \"http://www.w3.org/2000/01/rdf-schema#subClassOf\",\n",
      "  \"s1\": \"http://example.org/people/Bob\",\n",
      "  \"o\": \"James\",\n",
      "  \"ot\": \"http://www.w3.org/ns/prov#Agent\",\n",
      "  \"o1\": \"http://xmlns.com/foaf/0.1/Person\",\n",
      "  \"st\": \"http://xmlns.com/foaf/0.1/Person\",\n",
      "  \"p1\": \"http://www.w3.org/1999/02/22-rdf-syntax-ns#type\",\n",
      "  \"s\": \"http://example.org/people/James\",\n",
      "  \"p\": \"http://xmlns.com/foaf/0.1/name\"\n",
      "}\n",
      "{\n",
      "  \"pt\": \"http://www.w3.org/2000/01/rdf-schema#subClassOf\",\n",
      "  \"s1\": \"http://example.org/people/Bob\",\n",
      "  \"o\": \"http://xmlns.com/foaf/0.1/Person\",\n",
      "  \"ot\": \"http://www.w3.org/ns/prov#Agent\",\n",
      "  \"o1\": \"http://xmlns.com/foaf/0.1/Person\",\n",
      "  \"st\": \"http://xmlns.com/foaf/0.1/Person\",\n",
      "  \"p1\": \"http://www.w3.org/1999/02/22-rdf-syntax-ns#type\",\n",
      "  \"s\": \"http://example.org/people/James\",\n",
      "  \"p\": \"http://www.w3.org/1999/02/22-rdf-syntax-ns#type\"\n",
      "}\n"
     ]
    }
   ],
   "source": [
    "#g = ConjunctiveGraph().parse(trigdata, format = 'trig') \n",
    "g = ConjunctiveGraph()\n",
    "print(type(g))\n",
    "\n",
    "\n",
    "graph_uri1 = URIRef(\"http://example.org/graph1\")\n",
    "graph_uri2 = URIRef(\"http://example.org/graph2\")\n",
    "graph_top = URIRef(\"http://example.org/topology\")\n",
    "graph1 = g.get_context(graph_uri1)\n",
    "graph2 = g.get_context(graph_uri2)\n",
    "top = g.get_context(graph_top)\n",
    "\n",
    "\n",
    "top.add((FOAF.Person, RDFS.subClassOf, PROV.Agent))\n",
    "\n",
    "# Add triples to the default graph\n",
    "bob = URIRef(\"http://example.org/people/Bob\")\n",
    "graph1.add((bob, RDF.type, FOAF.Person))\n",
    "graph1.add((bob, FOAF.name, Literal(\"Bob\")))\n",
    "\n",
    "james = URIRef(\"http://example.org/people/James\")\n",
    "graph2.add((james, RDF.type, FOAF.Person))\n",
    "graph2.add((james, FOAF.name, Literal(\"James\")))\n",
    "\n",
    "# Add triples to a named graph\n",
    "#graph_uri = URIRef(\"http://example.org/graph1\")\n",
    "#g.get_context(graph_uri).add((bob, FOAF.knows, BNode()))\n",
    "\n",
    "# Print all triples in the ConjunctiveGraph\n",
    "print(g.serialize(format = 'trig'))\n",
    "\n",
    "q=\"\"\"\n",
    "\n",
    "SELECT *\n",
    "WHERE {\n",
    "    GRAPH <http://example.org/topology>  {?st ?pt ?ot}\n",
    "    GRAPH <http://example.org/graph1> {?s1 ?p1 ?o1}\n",
    "    GRAPH <http://example.org/graph2> {?s ?p ?o}\n",
    "    \n",
    "\n",
    "}\n",
    "\"\"\"\n",
    "\n",
    "\n",
    "import json\n",
    "for r in g.query(q):     print(json.dumps(r.asdict(),indent=2) ) \n",
    "    "
   ]
  },
  {
   "cell_type": "code",
   "execution_count": 19,
   "id": "0f5ab968-d6e4-4519-98e6-b9171323a91b",
   "metadata": {},
   "outputs": [
    {
     "data": {
      "text/plain": [
       "rdflib.term.URIRef('http://www.w3.org/ns/prov#Agent')"
      ]
     },
     "execution_count": 19,
     "metadata": {},
     "output_type": "execute_result"
    }
   ],
   "source": [
    "PROV.Agent"
   ]
  },
  {
   "cell_type": "raw",
   "id": "685ca554-73e7-40d4-b9fd-3643f865ec65",
   "metadata": {},
   "source": [
    "https://stackoverflow.com/questions/76647639/selecting-triples-from-an-rdf-graph-where-subject-is-in-list1-or-object-is-in-li"
   ]
  },
  {
   "cell_type": "code",
   "execution_count": 27,
   "id": "75577f7f-9e91-4432-8abb-1a38ab02638b",
   "metadata": {},
   "outputs": [],
   "source": [
    "from cco_interface import CommonCoreOntology\n",
    "model = CommonCoreOntology() "
   ]
  },
  {
   "cell_type": "code",
   "execution_count": 65,
   "id": "c468e54c-1327-419b-96a4-2936f44a4c20",
   "metadata": {},
   "outputs": [
    {
     "name": "stdout",
     "output_type": "stream",
     "text": [
      "{\n",
      "  \"http://example.com/graph_16\": 711,\n",
      "  \"http://example.com/graph_10\": 672,\n",
      "  \"http://example.com/graph_18\": 661,\n",
      "  \"http://example.com/graph_8\": 643,\n",
      "  \"http://example.com/graph_9\": 630,\n",
      "  \"http://example.com/graph_15\": 682,\n",
      "  \"http://example.com/graph_17\": 683,\n",
      "  \"http://example.com/graph_1\": 626,\n",
      "  \"http://example.com/graph_0\": 687,\n",
      "  \"http://example.com/graph_19\": 710,\n",
      "  \"http://example.com/graph_5\": 684,\n",
      "  \"http://example.com/graph_4\": 657,\n",
      "  \"http://example.com/graph_6\": 711,\n",
      "  \"http://example.com/graph_14\": 686,\n",
      "  \"http://example.com/graph_13\": 708,\n",
      "  \"http://example.com/graph_12\": 697,\n",
      "  \"http://example.com/graph_7\": 704,\n",
      "  \"http://example.com/graph_3\": 685,\n",
      "  \"http://example.com/graph_2\": 693,\n",
      "  \"http://example.com/graph_11\": 678\n",
      "}\n"
     ]
    }
   ],
   "source": [
    "import random\n",
    "gc={}\n",
    "graphs = [URIRef(f\"http://example.com/graph_{i}\") for i in range(20)]\n",
    "acm = [URIRef(f\"http://example.com/acm_{i}\") for i in range(20)]\n",
    "\n",
    "M = ConjunctiveGraph()\n",
    "clsg = URIRef(\"http://example.com/graph_cls\")\n",
    "\n",
    "for t in model.cco:\n",
    "    acmi=random.randint(0,len(graphs)-1)\n",
    "    g=graphs[acmi]\n",
    "    \n",
    "    if g not in gc: gc[g] = 0\n",
    "    gc[g] += 1\n",
    "    \n",
    "    M.get_context(g).add(t)\n",
    "    M.get_context(clsg).add((g,Namespace(model.cco_ns.get('cco')).has_acm,acm[acmi]))\n",
    "print(json.dumps(gc,indent=2))"
   ]
  },
  {
   "cell_type": "code",
   "execution_count": 66,
   "id": "37b228c2-f33b-4104-9557-529249e6bbac",
   "metadata": {},
   "outputs": [
    {
     "data": {
      "text/plain": [
       "3879528"
      ]
     },
     "execution_count": 66,
     "metadata": {},
     "output_type": "execute_result"
    }
   ],
   "source": [
    "ans_cg = [r.asdict() for r in (M.query(q))]\n",
    "ans_dg = [r.asdict() for r in model.cco.query(q)]\n",
    "assert(len(ans_cg) == len(ans_dg))\n",
    "qr=\"\"\"\n",
    "SELECT * \n",
    "WHERE {\n",
    "    GRAPH ?g { ?s ?p ?o }\n",
    "}\n",
    "\"\"\"\n",
    "op = {}\n",
    "for x in [r.asdict() for r in (M.query(qr))]:\n",
    "    if x.get('g') not in op: op[x.get('g')] = []\n",
    "    op[x.get('g')].append(x)\n",
    "\n",
    "len(op)\n",
    "#ans_cg_seg= [r.asdict() for r in (M.query(qr))]\n",
    "open(\"cg_graph_qry_seg.json\",'w').write(json.dumps(op, indent=2)) \n"
   ]
  },
  {
   "cell_type": "code",
   "execution_count": 64,
   "id": "1eb2c81e-de78-4673-8a77-cc7f9cc97f03",
   "metadata": {},
   "outputs": [
    {
     "data": {
      "text/plain": [
       "rdflib.term.URIRef('http://www.ontologyrepository.com/CommonCoreOntologies/has_class')"
      ]
     },
     "execution_count": 64,
     "metadata": {},
     "output_type": "execute_result"
    }
   ],
   "source": []
  },
  {
   "cell_type": "code",
   "execution_count": 40,
   "id": "62b1f661-5693-44be-ae31-13184d9c6635",
   "metadata": {},
   "outputs": [],
   "source": [
    "q = \"\"\"\n",
    "SELECT *\n",
    "    # ?dependent_property ?dependency ?dependent_class\n",
    "WHERE {\n",
    "    \n",
    "    #OPTIONAL {\n",
    "    #    ?class a owl:Class; rdfs:label ?class_label.\n",
    "    #    ?property rdfs:domain ?class; rdfs:label ?domain_prop_label. \n",
    "    #    BIND(?domain_prop_label as ?dependent_property)\n",
    "    #    BIND(\"DOMAIN\" AS ?dependency)\n",
    "    #    BIND(?class_label  as ?dependent_class) \n",
    "    #}\n",
    "    #OPTIONAL {\n",
    "    #    ?class a owl:Class; rdfs:label ?class_label.\n",
    "    #    ?property rdfs:range ?class; rdfs:label ?range_prop_label. \n",
    "    #    BIND(?range_prop_label as ?dependent_property)\n",
    "    #    BIND(\"RANGE\" AS ?dependency)\n",
    "    #    BIND(?class_label  as ?dependent_class) \n",
    "    #}   \n",
    "    \n",
    "    OPTIONAL {\n",
    "        ?class a owl:Class; rdfs:label ?class_label.\n",
    "        ?property rdfs:range ?class . \n",
    "        ?property rdfs:domain ?domain_class.\n",
    "        ?domain_class rdfs:label ?domain_class_label.\n",
    "        ## ?rdfs:domain ?domain_class .\n",
    "        ##  ?domain_class rdfs:label ?domain_class_label. \n",
    "        # rdfs:label ?range_prop_label; \n",
    "        \n",
    "        # BIND(?range_prop_label as ?dependent_property)\n",
    "        # BIND(\"RANGE\" AS ?dependency)\n",
    "        # BIND(?class_label  as ?dependent_class) \n",
    "    }  \n",
    "    OPTIONAL {\n",
    "        ?class a owl:Class; rdfs:label ?class_label.\n",
    "        ?property rdfs:domain ?class . \n",
    "        ?property rdfs:range ?range_class.\n",
    "        ?range_class rdfs:label ?range_class_label.\n",
    "    }\n",
    "    \n",
    "    \n",
    "    #OPTIONAL {\n",
    "    #    ?class a owl:Class; rdfs:label ?class_label.\n",
    "    #    ?class rdfs:subClassOf ?restriction. \n",
    "    #    ?restriction owl:onProperty ?restriction_property;\n",
    "    #        ?restriction_type ?restriction_obj .\n",
    "    #    ?restriction_property rdfs:label ?restriction_property_label\n",
    "    #    BIND(?restriction_property_label as ?dependent_property)\n",
    "    #    BIND(\"RESTRICTION\" AS ?dependency)\n",
    "    #    BIND(?class_label  as ?dependent_class) \n",
    "    #}\n",
    "}\n",
    "\"\"\"\n"
   ]
  },
  {
   "cell_type": "code",
   "execution_count": 78,
   "id": "5d20e802-f15a-4b2f-9740-45c4e0adf0c1",
   "metadata": {},
   "outputs": [
    {
     "data": {
      "text/plain": [
       "{'g': rdflib.term.URIRef('http://example.com/graph_17')}"
      ]
     },
     "execution_count": 78,
     "metadata": {},
     "output_type": "execute_result"
    }
   ],
   "source": [
    "qr = \"\"\"\n",
    "SELECT *\n",
    "WHERE {\n",
    "    #GRAPH ?g {\n",
    "       ?s rdfs:subClassOf <http://purl.obolibrary.org/obo/BFO_0000001>.\n",
    "    #}\n",
    "}\"\"\"\n",
    "[r for r in model.cco.query(qr)][0]\n",
    "qr = \"\"\"\n",
    "SELECT ?g\n",
    "WHERE {\n",
    "    GRAPH ?g {\n",
    "       ?s rdfs:subClassOf <http://purl.obolibrary.org/obo/BFO_0000001>.\n",
    "    }\n",
    "}\"\"\"\n",
    "\n",
    "[r.asdict() for r in M.query(qr)][0]\n"
   ]
  },
  {
   "cell_type": "code",
   "execution_count": 86,
   "id": "05159790-8e73-4c97-96b1-5dee49bd3894",
   "metadata": {},
   "outputs": [
    {
     "data": {
      "text/plain": [
       "(23867908, 19038187, 1.2536859733545007)"
      ]
     },
     "execution_count": 86,
     "metadata": {},
     "output_type": "execute_result"
    }
   ],
   "source": [
    "## memory consumption\n",
    "\n",
    "import sys\n",
    "get_deep_size(M), get_deep_size(model.cco), get_deep_size(M) / get_deep_size(model.cco)"
   ]
  },
  {
   "cell_type": "code",
   "execution_count": 84,
   "id": "5499f4dc-f035-4d90-bab8-b59a97b12ec9",
   "metadata": {},
   "outputs": [],
   "source": [
    "import sys\n",
    "from types import ModuleType, FunctionType\n",
    "from gc import get_referents\n",
    "\n",
    "# Custom objects know their class.\n",
    "# Function objects seem to know way too much, including modules.\n",
    "# Exclude modules as well.\n",
    "BLACKLIST = type, ModuleType, FunctionType\n",
    "\n",
    "\n",
    "def get_deep_size(obj):\n",
    "    \"\"\"sum size of object & members.\"\"\"\n",
    "    if isinstance(obj, BLACKLIST):\n",
    "        raise TypeError('getsize() does not take argument of type: '+ str(type(obj)))\n",
    "    seen_ids = set()\n",
    "    size = 0\n",
    "    objects = [obj]\n",
    "    while objects:\n",
    "        need_referents = []\n",
    "        for obj in objects:\n",
    "            if not isinstance(obj, BLACKLIST) and id(obj) not in seen_ids:\n",
    "                seen_ids.add(id(obj))\n",
    "                size += sys.getsizeof(obj)\n",
    "                need_referents.append(obj)\n",
    "        objects = get_referents(*need_referents)\n",
    "    return size"
   ]
  },
  {
   "cell_type": "code",
   "execution_count": null,
   "id": "7fb47ed7-11ba-471d-aa95-63e94e779dd2",
   "metadata": {},
   "outputs": [],
   "source": []
  }
 ],
 "metadata": {
  "kernelspec": {
   "display_name": "Python 3 (ipykernel)",
   "language": "python",
   "name": "python3"
  },
  "language_info": {
   "codemirror_mode": {
    "name": "ipython",
    "version": 3
   },
   "file_extension": ".py",
   "mimetype": "text/x-python",
   "name": "python",
   "nbconvert_exporter": "python",
   "pygments_lexer": "ipython3",
   "version": "3.9.7"
  }
 },
 "nbformat": 4,
 "nbformat_minor": 5
}
