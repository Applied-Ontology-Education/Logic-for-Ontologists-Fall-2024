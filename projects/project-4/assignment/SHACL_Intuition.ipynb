{
 "cells": [
  {
   "cell_type": "raw",
   "id": "6b05c72c-8dcb-4da4-b54d-04ffab7944b9",
   "metadata": {},
   "source": [
    "ex:PersonShape\n",
    "    a sh:NodeShape ;\n",
    "    sh:targetClass ex:Person ;\n",
    "    sh:path ex:parent ;\n",
    "    sh:minCount 1 .`\n",
    "    \n",
    "    "
   ]
  },
  {
   "cell_type": "raw",
   "id": "12d28384-6015-4623-9ece-92ea2fdaf59d",
   "metadata": {},
   "source": [
    "  \"r\": \"http://www.ontologyrepository.com/CommonCoreOntologies/ActOfAppraisal\",\n",
    "  \"def\": \"An Act of Measuring that involves evaluating, assessing, estimating, or judging the nature, value, importance, condition, or quality of something or someone.\",\n",
    "  \"label\": \"Act of Appraisal\"\n",
    "  \n",
    "  http://www.ontologyrepository.com/CommonCoreOntologies/MeasurementInformationContentEntity"
   ]
  },
  {
   "cell_type": "raw",
   "id": "368a0758-d274-4417-ad89-c4b0fc1b87cd",
   "metadata": {},
   "source": [
    "\n",
    "--------------------------------------------- \n",
    "ex:PersonShape\n",
    "\ta sh:NodeShape ;\n",
    "\tsh:targetClass ex:Person ;    # Applies to all persons\n",
    "\tsh:property [                 # _:b1\n",
    "\t\tsh:path ex:ssn ;           # constrains the values of ex:ssn\n",
    "\t\tsh:maxCount 1 ;\n",
    "\t\tsh:datatype xsd:string ;\n",
    "\t\tsh:pattern \"^\\\\d{3}-\\\\d{2}-\\\\d{4}$\" ;\n",
    "\t] ;\n",
    "\tsh:property [                 # _:b2\n",
    "\t\tsh:path ex:worksFor ;\n",
    "\t\tsh:class ex:Company ;\n",
    "\t\tsh:nodeKind sh:IRI ;\n",
    "\t] ;\n",
    "\tsh:closed true ;\n",
    "\tsh:ignoredProperties ( rdf:type ) .\n",
    "    \n",
    "    \n",
    "https://www.w3.org/TR/shacl/\n",
    "cco:ActOfAppraisal\n",
    "    a sh:NodeShape ;\n",
    "    sh:targetClass cco:MeasurementInformationContentEntity;\n",
    "    sh:path cco:has_output ;\n",
    "    sh:minCount\n",
    " "
   ]
  },
  {
   "cell_type": "raw",
   "id": "ffa8dfd9-45f4-4912-b24f-bef9a2a56199",
   "metadata": {},
   "source": [
    "\n",
    "obo: http://purl.obolibrary.org/obo/\n",
    "cco: http://www.ontologyrepository.com/CommonCoreOntologies/\n",
    "sh: https://www.w3.org/TR/shacl/\n",
    "ccosh: http://www.ontologyrepository.com/CommonCoreOntologies/shapes/\n",
    "\n",
    "ccosh:ActOfAppraisalShape\n",
    "\ta sh:NodeShape ;\n",
    "\tsh:targetClass ex:ActOfAppraisal ;    # Applies to all instances of ActOfAppraisal\n",
    "\n",
    "\tsh:property [                 \n",
    "\t\tsh:path cco:occurs_on ; ## some temporal region - such as a day\n",
    "\t\tsh:class obo:BFO_0000038 ;\n",
    "\t\tsh:nodeKind sh:IRI ;\n",
    "\t] ;    \n",
    "\tsh:property [                 \n",
    "\t\tsh:path cco:has_output ;\n",
    "\t\tsh:class cco:MeasurementContentEntity ; ## Depending on the type of assessment - may need to be more specific\n",
    "\t\tsh:nodeKind sh:IRI ;\n",
    "\t] ;\n",
    "\tsh:property [   ## object that is being appraised                \n",
    "\t\tsh:path cco:has_object ;\n",
    "\t\tsh:class obo:Entity ;\n",
    "\t\tsh:nodeKind sh:IRI ;\n",
    "\t] ; \n",
    "\tsh:property [                 \n",
    "\t\tsh:path cco:has_participant ;\n",
    "\t\tsh:class cco:Agent ;  ## create a particular Agent Class with a set of capabilities restrictions \n",
    "\t\tsh:nodeKind sh:IRI ;\n",
    "\t] ;       \n",
    "\tsh:property [    ## a datatype property for illustrative purposes        \n",
    "\t\tsh:path cco:has_date_value ;           \n",
    "\t\tsh:maxCount 1 ;\n",
    "\t\tsh:datatype xsd:date ;\n",
    "\t\t## sh:pattern \"^\\\\d{3}-\\\\d{2}-\\\\d{4}$\" ;  # optional regex for string patterns\n",
    "\t] .   \n",
    "\t# ?? sh:closed true ;\n",
    "\tsh:ignoredProperties ( rdf:type ) .\n",
    "\n",
    "    \n",
    "    "
   ]
  },
  {
   "cell_type": "code",
   "execution_count": 39,
   "id": "31189975-b0bc-4b54-afe8-113086e2ab7c",
   "metadata": {},
   "outputs": [],
   "source": [
    "from rdflib import *\n",
    "cco = Namespace(\"http://www.ontologyrepository.com/CommonCoreOntologies/\") \n",
    "sh = Namespace(\"http://www.w3.org/ns/shacl#\") ## shacl\n",
    "obo = Namespace(\"http://purl.obolibrary.org/obo/\") \n",
    "aap = Graph().parse('ActOfAppraisal.shacl', format = 'ttl')\n",
    "\n",
    "\n",
    "            "
   ]
  },
  {
   "cell_type": "code",
   "execution_count": 40,
   "id": "0a5a497c-beb0-4425-be9a-4759a8218715",
   "metadata": {},
   "outputs": [
    {
     "data": {
      "text/plain": [
       "1457"
      ]
     },
     "execution_count": 40,
     "metadata": {},
     "output_type": "execute_result"
    }
   ],
   "source": [
    "open('actOfAppraisal.ttl','w').write(aap.serialize(format = 'ttl'))"
   ]
  },
  {
   "cell_type": "code",
   "execution_count": 43,
   "id": "f9ad0701-0213-4afb-9b97-27cd65e8596a",
   "metadata": {},
   "outputs": [],
   "source": [
    "bfo=Graph().parse(\"/Users/johngugliotti/Documents/dev/BFO-2020/src/owl/bfo-core.ttl\")\n",
    "agent=Graph().parse('/Users/johngugliotti/Documents/dev/CommonCoreOntologies/EventOntology.ttl',format='ttl')"
   ]
  },
  {
   "cell_type": "code",
   "execution_count": null,
   "id": "cc4ac467-4102-4799-bfe6-8ef07424edf0",
   "metadata": {},
   "outputs": [],
   "source": []
  }
 ],
 "metadata": {
  "kernelspec": {
   "display_name": "Python 3 (ipykernel)",
   "language": "python",
   "name": "python3"
  },
  "language_info": {
   "codemirror_mode": {
    "name": "ipython",
    "version": 3
   },
   "file_extension": ".py",
   "mimetype": "text/x-python",
   "name": "python",
   "nbconvert_exporter": "python",
   "pygments_lexer": "ipython3",
   "version": "3.9.7"
  }
 },
 "nbformat": 4,
 "nbformat_minor": 5
}
